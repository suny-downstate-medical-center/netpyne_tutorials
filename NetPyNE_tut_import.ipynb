{
 "cells": [
  {
   "cell_type": "code",
   "execution_count": null,
   "metadata": {
    "colab": {
     "base_uri": "https://localhost:8080/"
    },
    "executionInfo": {
     "elapsed": 10691,
     "status": "ok",
     "timestamp": 1652718804168,
     "user": {
      "displayName": "Valeriy Bragin",
      "userId": "07944810830965607465"
     },
     "user_tz": -180
    },
    "id": "V0cRyhp8YWl2",
    "outputId": "c95411ea-2617-4040-b4c8-859d2217e556"
   },
   "outputs": [],
   "source": [
    "!pip install neuron\n",
    "!pip install netpyne\n",
    "\n",
    "# !nrnivmodl mod\n",
    "!/opt/app-root/src/.local/bin/nrnivmodl mod"
   ]
  },
  {
   "cell_type": "code",
   "execution_count": null,
   "metadata": {
    "colab": {
     "base_uri": "https://localhost:8080/",
     "height": 383
    },
    "executionInfo": {
     "elapsed": 858,
     "status": "error",
     "timestamp": 1652718734663,
     "user": {
      "displayName": "Valeriy Bragin",
      "userId": "07944810830965607465"
     },
     "user_tz": -180
    },
    "id": "f0P--qg5YUT6",
    "outputId": "f8c7126a-97b6-4ed8-92a1-5420217a689b"
   },
   "outputs": [],
   "source": [
    "from netpyne import specs, sim\n",
    "from pprint import pprint\n",
    "import matplotlib\n",
    "%matplotlib inline\n",
    "\n",
    "# Network parameters\n",
    "netParams = specs.NetParams()  # object of class NetParams to store the network parameters\n",
    "\n",
    "\n",
    "### HH\n",
    "netParams.importCellParams(\n",
    "    label='PYR_HH', \n",
    "    fileName='cells/HHCellFile.py', \n",
    "    cellName='HHCellClass', \n",
    "    importSynMechs=True,\n",
    "    )\n"
   ]
  },
  {
   "cell_type": "code",
   "execution_count": null,
   "metadata": {},
   "outputs": [],
   "source": [
    "pprint(netParams.cellParams['PYR_HH'])"
   ]
  },
  {
   "cell_type": "code",
   "execution_count": null,
   "metadata": {},
   "outputs": [],
   "source": [
    "\n",
    "### HH3D HOC\n",
    "cellRule = netParams.importCellParams(\n",
    "    label='PYR_HH3D_hoc', \n",
    "    fileName='cells/geom.hoc', \n",
    "    cellName='E21', \n",
    "    importSynMechs=False,\n",
    "    )\n",
    "cellRule['secs']['soma']['mechs']['hh'] = {'gnabar': 0.12, 'gkbar': 0.036, 'gl': 0.003, 'el': -70}\n",
    "for secName in cellRule['secs']:\n",
    "    cellRule['secs'][secName]['mechs']['pas'] = {'g': 0.0000357, 'e': -70}\n",
    "    cellRule['secs'][secName]['geom']['cm'] = 1\n",
    "\n",
    "\n",
    "\n",
    "\n",
    "### HH3D SWC\n",
    "cellRule = netParams.importCellParams(\n",
    "    label='PYR_HH3D_swc', \n",
    "    conds={'cellType': 'PYR', 'cellModel': 'HH3D_swc'},\n",
    "    fileName='cells/BS0284.swc', \n",
    "    cellName='BS0284',\n",
    "    )\n",
    "netParams.renameCellParamsSec('PYR_HH3D_swc', 'soma_0', 'soma')  # rename imported section 'soma_0' to 'soma'\n",
    "for secName in cellRule['secs']:\n",
    "    cellRule['secs'][secName]['mechs']['pas'] = {'g': 0.0000357, 'e': -70}\n",
    "    cellRule['secs'][secName]['geom']['cm'] = 1\n",
    "    if secName.startswith('soma'):\n",
    "        cellRule['secs'][secName]['mechs']['hh'] = {'gnabar': 0.12, 'gkbar': 0.036, 'gl': 0.003, 'el': -70}\n",
    "\n",
    "\n",
    "### Traub\n",
    "cellRule = netParams.importCellParams(\n",
    "    label='PYR_Traub', \n",
    "    fileName='cells/pyr3_traub.hoc', \n",
    "    cellName='pyr3',\n",
    "    )\n",
    "somaSec = cellRule['secLists']['Soma'][0]\n",
    "cellRule['secs'][somaSec]['spikeGenLoc'] = 0.5 # this is where netpyne will check for spiking voltage threshold\n",
    "\n",
    "\n",
    "### Mainen\n",
    "netParams.importCellParams(\n",
    "    label='PYR_Mainen_rule', \n",
    "    conds={'cellType': 'PYR', 'cellModel': 'Mainen'},\n",
    "    fileName='cells/mainen.py', \n",
    "    cellName='PYR2',\n",
    "    )\n",
    "\n",
    "\n",
    "### Friesen\n",
    "cellRule = netParams.importCellParams(\n",
    "    label='PYR_Friesen_rule', \n",
    "    conds={'cellType': 'PYR', 'cellModel': 'Friesen'},\n",
    "    fileName='cells/friesen.py', \n",
    "    cellName='MakeRSFCELL',\n",
    "    )\n",
    "cellRule['secs']['axon']['spikeGenLoc'] = 0.5\n",
    "\n",
    "\n",
    "### Izhi2003a (independent voltage)\n",
    "cellRule = netParams.importCellParams(\n",
    "    label='PYR_Izhi03a_rule', \n",
    "    conds={'cellType': 'PYR', 'cellModel':'Izh2003a'},\n",
    "    fileName='cells/izhi2003Wrapper.py', \n",
    "    cellName='IzhiCell',\n",
    "    cellArgs={'type':'tonic spiking', 'host':'dummy'},\n",
    "    )\n",
    "netParams.renameCellParamsSec('PYR_Izhi03a_rule', 'sec', 'soma')  # rename imported section 'sec' to 'soma'\n",
    "cellRule['secs']['soma']['pointps']['Izhi2003a_0']['vref'] = 'V' # specify that uses its own voltage V\n",
    "\n",
    "\n",
    "### Izhi2003b (section voltage)\n",
    "netParams.importCellParams(\n",
    "    label='PYR_Izhi03b_rule', \n",
    "    conds={'cellType': 'PYR', 'cellModel':'Izh2003b'},\n",
    "    fileName='cells/izhi2003Wrapper.py', \n",
    "    cellName='IzhiCell',  \n",
    "    cellArgs={'type':'tonic spiking'},\n",
    "    )\n",
    "\n",
    "\n",
    "### Izhi2007a (independent voltage)\n",
    "cellRule = netParams.importCellParams(\n",
    "    label='PYR_Izhi07a_rule', \n",
    "    conds={'cellType': 'PYR', 'cellModel':'Izh2007a'},\n",
    "    fileName='cells/izhi2007Wrapper.py', \n",
    "    cellName='IzhiCell',  \n",
    "    cellArgs={'type':'RS', 'host':'dummy'},\n",
    "    )\n",
    "netParams.renameCellParamsSec('PYR_Izhi07a_rule', 'sec', 'soma')  # rename imported section 'sec' to 'soma'\n",
    "cellRule['secs']['soma']['pointps']['Izhi2007a_0']['vref'] = 'V' # specify that uses its own voltage V\n",
    "cellRule['secs']['soma']['pointps']['Izhi2007a_0']['synList'] = ['AMPA', 'NMDA', 'GABAA', 'GABAB']  # specify its own synapses\n",
    "\n",
    "\n",
    "### Izhi2007b (section voltage)\n",
    "netParams.importCellParams(\n",
    "    label='PYR_Izhi07b_rule', \n",
    "    conds={'cellType': 'PYR', 'cellModel':'Izh2007b'},\n",
    "    fileName='cells/izhi2007Wrapper.py', \n",
    "    cellName='IzhiCell',  \n",
    "    cellArgs={'type':'RS'},\n",
    "    )\n"
   ]
  },
  {
   "cell_type": "code",
   "execution_count": null,
   "metadata": {},
   "outputs": [],
   "source": [
    "pprint(netParams.cellParams['PYR_HH3D_hoc'])"
   ]
  },
  {
   "cell_type": "code",
   "execution_count": null,
   "metadata": {},
   "outputs": [],
   "source": [
    "\n",
    "\n",
    "## Population parameters\n",
    "netParams.popParams['HH_pop'] = {'cellType': 'PYR_HH', 'numCells': 5}\n",
    "netParams.popParams['HH3D_pop_hoc'] = {'cellType': 'PYR_HH3D_hoc', 'numCells': 5}\n",
    "netParams.popParams['HH3D_pop_swc'] = {'cellType': 'PYR_HH3D_swc', 'numCells': 5}\n",
    "netParams.popParams['Traub_pop'] = {'cellType': 'PYR_Traub', 'numCells': 5}\n",
    "netParams.popParams['Mainen_pop'] = {'cellType': 'PYR', 'numCells': 5}\n",
    "netParams.popParams['Friesen_pop'] = {'cellType': 'PYR', 'numCells': 5}\n",
    "netParams.popParams['Izhi03a_pop'] = {'cellType': 'PYR', 'numCells': 5}\n",
    "netParams.popParams['Izhi03b_pop'] = {'cellType': 'PYR', 'numCells': 5}\n",
    "netParams.popParams['Izhi07a_pop'] = {'cellType': 'PYR', 'numCells': 5}\n",
    "netParams.popParams['Izhi07b_pop'] = {'cellType': 'PYR', 'numCells': 5}\n",
    "\n",
    "\n",
    "\n",
    "## Synaptic mechanism parameters\n",
    "netParams.synMechParams['AMPA'] = {'mod': 'Exp2Syn', 'tau1': 1.0, 'tau2': 5.0, 'e': 0}  # soma NMDA synapse\n",
    "\n",
    "\n",
    "# Stimulation parameters\n",
    "netParams.stimSourceParams['bkg'] = {'type': 'NetStim', 'rate': 50, 'noise': 0.5}\n",
    "netParams.stimTargetParams['bg1'] = {'source': 'bkg', 'conds': {'cellType': 'PYR', 'cellModel': ['Traub', 'HH', 'HH3D_hoc', 'HH3D_swc', 'Mainen', 'Izh2003b', 'Izh2007b']}, 'weight': 0.1, 'delay': 5, 'sec': 'soma'}\n",
    "netParams.stimTargetParams['bg2'] = {'source': 'bkg', 'conds': {'cellType': 'PYR', 'cellModel': ['Friesen','Izh2003a', 'Izh2007a']}, 'weight': 5, 'delay': 5, 'sec': 'soma'}\n",
    "\n",
    "\n",
    "## Connectivity params\n",
    "netParams.connParams['recurrent'] = {\n",
    "    'preConds': {'cellType': 'PYR'}, 'postConds': {'cellType': 'PYR'},  #  PYR -> PYR random\n",
    "    'connFunc': 'convConn',           # connectivity function (random)\n",
    "    'convergence': 'uniform(0,10)',   # max number of incoming conns to cell\n",
    "    'weight': 0.001,                  # synaptic weight\n",
    "    'delay': 5,                       # transmission delay (ms)\n",
    "    'sec': 'soma'}                    # section to connect to\n",
    "\n",
    "netParams.connParams['HH->izhi07a'] = {\n",
    "    'preConds': {'pop': 'HH_pop'}, 'postConds': {'pop': 'Izhi07a_pop'}, # background -> PYR (weight=0.1)\n",
    "    'connFunc': 'fullConn',     # connectivity function (all-to-all)\n",
    "    'weight': 5,                # synaptic weight\n",
    "    'delay': 5,                 # transmission delay (ms)\n",
    "    'sec': 'soma'}              # section to connect to\n",
    "\n",
    "netParams.connParams['izhi07a->HH'] = {\n",
    "    'preConds': {'pop': 'Izhi07a_pop'}, 'postConds': {'pop': 'HH_pop'}, # background -> PYR (weight=0.1)\n",
    "    'connFunc': 'fullConn',     # connectivity function (all-to-all)\n",
    "    'weight': 0.1,              # synaptic weight\n",
    "    'delay': 5,                 # transmission delay (ms)\n",
    "    'sec': 'soma'}              # section to connect to\n",
    "\n",
    "\n",
    "# Simulation options\n",
    "simConfig = specs.SimConfig()       # object of class SimConfig to store simulation configuration\n",
    "simConfig.duration = 1*1e3          # Duration of the simulation, in ms\n",
    "simConfig.dt = 0.025                # Internal integration timestep to use\n",
    "simConfig.verbose = False           # Show detailed messages\n",
    "simConfig.recordTraces = {'V_soma': {'sec': 'soma', 'loc': 0.5, 'var': 'v'}}\n",
    "simConfig.recordStep = 1            # Step size in ms to save data (eg. V traces, LFP, etc)\n",
    "simConfig.filename = 'model_output' # Set file output name\n",
    "simConfig.savePickle = False        # Save params, network and sim output to pickle file\n",
    "simConfig.analysis['plotRaster'] = {'orderInverse': True, 'saveFig': 'tut_import_raster.png'}           \n",
    "#simConfig.analysis['plotTraces'] = {'include': ['HH3D_pop_hoc', 'HH3D_pop_swc']}            \n",
    "\n",
    "\n",
    "# Create network and run simulation\n",
    "sim.createSimulateAnalyze(netParams = netParams, simConfig = simConfig)\n",
    "\n",
    "\n"
   ]
  }
 ],
 "metadata": {
  "colab": {
   "collapsed_sections": [],
   "name": "tut_netpyne_import.ipynb",
   "provenance": [
    {
     "file_id": "1P9Y-rLqpKTP_cJZmWQY8qYsUMfNnju4N",
     "timestamp": 1631431953283
    },
    {
     "file_id": "1xcqB5I_iBlz3TNopuNERCJ1StlvZZJw5",
     "timestamp": 1621531137101
    },
    {
     "file_id": "19y6MLKhDAdBxLUZm2sHOuQx-5bqSODs-",
     "timestamp": 1621524871397
    }
   ]
  },
  "kernelspec": {
   "display_name": "Python 3 (ipykernel)",
   "language": "python",
   "name": "python3"
  },
  "language_info": {
   "codemirror_mode": {
    "name": "ipython",
    "version": 3
   },
   "file_extension": ".py",
   "mimetype": "text/x-python",
   "name": "python",
   "nbconvert_exporter": "python",
   "pygments_lexer": "ipython3",
   "version": "3.8.10"
  }
 },
 "nbformat": 4,
 "nbformat_minor": 4
}
